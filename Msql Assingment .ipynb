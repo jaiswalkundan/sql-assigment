{
 "cells": [
  {
   "cell_type": "code",
   "execution_count": null,
   "id": "ad74b6c9-5e42-4e92-a0c9-6936bf8c41f8",
   "metadata": {},
   "outputs": [],
   "source": [
    "Q1. What is a database? Differentiate between SQL and NoSQL databases."
   ]
  },
  {
   "cell_type": "markdown",
   "id": "d6fe909f-d324-48a3-9edf-dd1231a5d858",
   "metadata": {},
   "source": [
    "A database is a structured collection of data that is organized for efficient storage, retrieval ,and\n",
    "management it serves as a cental repository for storing and managing information.\n",
    "SQL (structured Query Language) and NoSQL are two type\n",
    "\n",
    "1. SQL(Relational Databases)\n",
    "2. NoSQL(Non-Relational Database):"
   ]
  },
  {
   "cell_type": "code",
   "execution_count": null,
   "id": "a5019db3-e799-412d-8b18-a5e42adf54e3",
   "metadata": {},
   "outputs": [],
   "source": [
    "Q2. What is DDL? Explain why CREATE, DROP, ALTER, and TRUNCATE are used with an example."
   ]
  },
  {
   "cell_type": "markdown",
   "id": "2c116e75-faa5-478a-bcab-8a21354036a5",
   "metadata": {},
   "source": [
    "DDL(Data Definition Language) and it is a subset of SQL that deals with the structure of a database.\n",
    "DDL commonds are used to define,modify,and remove database objects like tables, indexes, "
   ]
  },
  {
   "cell_type": "markdown",
   "id": "d745fdd7-9739-4fb4-a6ab-f1a38b8921c1",
   "metadata": {},
   "source": [
    "CREATE TABLE employess (\n",
    "    employee_id INT PRIMARY KEY,\n",
    "    employee_name VARCHAR(50),\n",
    "    salary DECIMAL(10,2)\n",
    ");    "
   ]
  },
  {
   "cell_type": "markdown",
   "id": "53a40227-e66b-4e05-b372-af5b9e3f4386",
   "metadata": {},
   "source": [
    "DROPE TABLE employees;"
   ]
  },
  {
   "cell_type": "code",
   "execution_count": null,
   "id": "78ce3bbb-3b96-4dd8-a7e7-d15458c1c29b",
   "metadata": {},
   "outputs": [],
   "source": [
    "ALTER TABLE employees \n",
    "ADD COLUMN department VARCHAR(50);"
   ]
  },
  {
   "cell_type": "code",
   "execution_count": null,
   "id": "69295767-afe1-461e-ab19-1172dec1e6c4",
   "metadata": {},
   "outputs": [],
   "source": [
    "TRUNCATE TABLE employees;"
   ]
  },
  {
   "cell_type": "code",
   "execution_count": null,
   "id": "f1812954-aaa8-4006-92fd-e6f578d1374a",
   "metadata": {},
   "outputs": [],
   "source": [
    "Q3. What is DML? Explain INSERT, UPDATE, and DELETE with an example."
   ]
  },
  {
   "cell_type": "code",
   "execution_count": null,
   "id": "504623fc-7c22-48a6-a5ec-ecd96f56c1b7",
   "metadata": {},
   "outputs": [],
   "source": [
    "DML(DATA MANIPULATION LANGUAGE,) and its a subset of SQL used for managing data within a database.\n"
   ]
  },
  {
   "cell_type": "code",
   "execution_count": null,
   "id": "b325c606-6dec-48a4-a28f-b479f75373bb",
   "metadata": {},
   "outputs": [],
   "source": [
    "INSERT INTO employees(employee_id, employee_name, salary) values (101, 'John Doe',50000);"
   ]
  },
  {
   "cell_type": "code",
   "execution_count": null,
   "id": "0e9ae234-8055-46a2-a1a2-1517ca6c5950",
   "metadata": {},
   "outputs": [],
   "source": [
    "UPDATE employees SET salary = 55000 WHERE employee_id = 101;"
   ]
  },
  {
   "cell_type": "code",
   "execution_count": null,
   "id": "6d9ca616-3d54-4a44-a48d-8ba6922ff361",
   "metadata": {},
   "outputs": [],
   "source": [
    "DELETE FROM employees WHERE employee_id = 101;"
   ]
  },
  {
   "cell_type": "code",
   "execution_count": null,
   "id": "dc719ca9-66b8-47c5-8d20-f9ac8a890968",
   "metadata": {},
   "outputs": [],
   "source": [
    "Q4. What is DQL? Explain SELECT with an example."
   ]
  },
  {
   "cell_type": "code",
   "execution_count": null,
   "id": "aa16a8a0-f901-4762-ac93-1951ef4d9a78",
   "metadata": {},
   "outputs": [],
   "source": [
    "DQL(data query language, ) and it is a subset of sql used for querying and retrieving data from database"
   ]
  },
  {
   "cell_type": "code",
   "execution_count": null,
   "id": "32f1bb02-8b0a-4f3a-90c5-e42ad99f0a3a",
   "metadata": {},
   "outputs": [],
   "source": [
    "SELECT column1, column2 \n",
    "FROM table_name\n",
    "WHERE condition;"
   ]
  },
  {
   "cell_type": "code",
   "execution_count": null,
   "id": "554cf6c6-24c9-4ee4-996a-41969d885ee3",
   "metadata": {},
   "outputs": [],
   "source": [
    "SELECT first_name , last_name\n",
    "FROM employees \n",
    "WHERE department = 'IT';"
   ]
  },
  {
   "cell_type": "code",
   "execution_count": null,
   "id": "2235cd0b-38d5-4b06-ba10-fbbd1a91dbf1",
   "metadata": {},
   "outputs": [],
   "source": [
    "Q5. Explain Primary Key and Foreign Key."
   ]
  },
  {
   "cell_type": "markdown",
   "id": "8a126302-7839-4e7b-9007-199ac5494500",
   "metadata": {},
   "source": [
    "A primary key is a unique identifier for a record in a database table, ensuring each row has a distinct value it enforces data integrity and is often used as a reference point in relationships.with other tables.\n",
    "\n",
    "A foreign key, on the other hand is a field in a database table that refers to the primary key in another table .it establishes a link between  the two tables,"
   ]
  },
  {
   "cell_type": "code",
   "execution_count": null,
   "id": "6b77cec0-8798-41e4-9fe4-d45f19026e03",
   "metadata": {},
   "outputs": [],
   "source": [
    "Q6. Write a python code to connect MySQL to python. Explain the cursor() and execute() method."
   ]
  },
  {
   "cell_type": "code",
   "execution_count": 3,
   "id": "f8710865-a0a6-402b-bf9f-3b1103510aef",
   "metadata": {},
   "outputs": [
    {
     "ename": "ModuleNotFoundError",
     "evalue": "No module named 'mysql'",
     "output_type": "error",
     "traceback": [
      "\u001b[0;31m---------------------------------------------------------------------------\u001b[0m",
      "\u001b[0;31mModuleNotFoundError\u001b[0m                       Traceback (most recent call last)",
      "Cell \u001b[0;32mIn[3], line 1\u001b[0m\n\u001b[0;32m----> 1\u001b[0m \u001b[38;5;28;01mimport\u001b[39;00m \u001b[38;5;21;01mmysql\u001b[39;00m\u001b[38;5;21;01m.\u001b[39;00m\u001b[38;5;21;01mconnector\u001b[39;00m  \n\u001b[1;32m      3\u001b[0m host\u001b[38;5;241m=\u001b[39m \u001b[38;5;124m\"\u001b[39m\u001b[38;5;124myour_host\u001b[39m\u001b[38;5;124m\"\u001b[39m\n\u001b[1;32m      4\u001b[0m user\u001b[38;5;241m=\u001b[39m \u001b[38;5;124m\"\u001b[39m\u001b[38;5;124myour_username\u001b[39m\u001b[38;5;124m\"\u001b[39m\n",
      "\u001b[0;31mModuleNotFoundError\u001b[0m: No module named 'mysql'"
     ]
    }
   ],
   "source": [
    "import mysql.connector  \n",
    "\n",
    "host= \"your_host\"\n",
    "user= \"your_username\"\n",
    "password=\"your_password\"\n",
    "database=\"your_database\"\n",
    "\n",
    "cursor = connection.cursor()\n",
    "cursor.execute(\"SELECT * FROM your_table\")\n",
    "results= cursor.fetchall()\n",
    "for row in results:\n",
    "    print(row)\n",
    "cursor. close()\n",
    "connection. close()"
   ]
  },
  {
   "cell_type": "code",
   "execution_count": null,
   "id": "d5be9c18-94c1-4ee4-a0a1-3885d14ba4c2",
   "metadata": {},
   "outputs": [],
   "source": [
    "Q7. Give the order of execution of SQL clauses in an SQL query."
   ]
  },
  {
   "cell_type": "code",
   "execution_count": null,
   "id": "4e3a3755-be23-4034-99fe-09ed741d9d26",
   "metadata": {},
   "outputs": [],
   "source": [
    "1.parsing and lexing\n",
    "2.synatx checking\n",
    "3.semantic Analysis \n",
    "4.Query optimization\n",
    "5.Execution plan Generation\n",
    "6.Data manipulation\n",
    "7.data retrieval\n",
    "8.transaction management\n",
    "9.Result set Generation\n",
    "10. Result pres\n"
   ]
  },
  {
   "cell_type": "code",
   "execution_count": null,
   "id": "e9633779-569e-42f9-be8d-111de5874fa7",
   "metadata": {},
   "outputs": [],
   "source": []
  },
  {
   "cell_type": "code",
   "execution_count": null,
   "id": "480a7299-f8bb-4cc5-b7c9-fe908beff6d3",
   "metadata": {},
   "outputs": [],
   "source": []
  },
  {
   "cell_type": "code",
   "execution_count": null,
   "id": "a68d8519-d051-4dd5-ae24-a466b4661351",
   "metadata": {},
   "outputs": [],
   "source": []
  }
 ],
 "metadata": {
  "kernelspec": {
   "display_name": "Python 3 (ipykernel)",
   "language": "python",
   "name": "python3"
  },
  "language_info": {
   "codemirror_mode": {
    "name": "ipython",
    "version": 3
   },
   "file_extension": ".py",
   "mimetype": "text/x-python",
   "name": "python",
   "nbconvert_exporter": "python",
   "pygments_lexer": "ipython3",
   "version": "3.10.8"
  }
 },
 "nbformat": 4,
 "nbformat_minor": 5
}
